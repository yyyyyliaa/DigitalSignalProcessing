{
 "cells": [
  {
   "cell_type": "code",
   "execution_count": null,
   "outputs": [],
   "source": [
    "import sympy as sp\n",
    "import matplotlib.pyplot as plt\n",
    "import numpy as np"
   ],
   "metadata": {
    "collapsed": false
   },
   "id": "8b7cee99e109f6bd"
  },
  {
   "cell_type": "code",
   "execution_count": null,
   "outputs": [],
   "source": [
    "x = sp.symbols('x')\n",
    "f_x = sp.Piecewise((x + 1, (x > -1) & (x < 0)), (1, (x >= 0) & (x < 1)))\n",
    "L = 2\n",
    "a_0 = (2 / L) * sp.integrate(f_x, (x, -1, 1))\n",
    "a_n_sum = 0\n",
    "b_n_sum = 0\n",
    "N = 50"
   ],
   "metadata": {
    "collapsed": false
   },
   "id": "initial_id"
  },
  {
   "cell_type": "code",
   "execution_count": null,
   "outputs": [],
   "source": [
    "for n in range(1, N + 1):\n",
    "    a_n = (2 / L) * sp.integrate(f_x * sp.cos(2 * sp.pi * n * x / L), (x, -1, 1))\n",
    "    b_n = (2 / L) * sp.integrate(f_x * sp.sin(2 * sp.pi * n * x / L), (x, -1, 1))\n",
    "    \n",
    "    a_n_sum += a_n * sp.cos(2 * sp.pi * n * x / L)\n",
    "    b_n_sum += b_n * sp.sin(2 * sp.pi * n * x / L)"
   ],
   "metadata": {
    "collapsed": false
   },
   "id": "291d7ecf4c5cc48"
  },
  {
   "cell_type": "code",
   "execution_count": null,
   "outputs": [],
   "source": [
    "fourier_series = a_0 / 2 + a_n_sum + b_n_sum\n",
    "f_fourier = sp.lambdify(x, fourier_series, 'numpy')\n",
    "x_values = np.linspace(-1, 1, 1000)\n",
    "y_values = [2*f_fourier(x_val) for x_val in x_values]\n",
    "y_values_true = [f_x.subs(x, x_val) for x_val in x_values]"
   ],
   "metadata": {
    "collapsed": false
   },
   "id": "736a12ab596c1d6c"
  },
  {
   "cell_type": "code",
   "execution_count": null,
   "outputs": [],
   "source": [
    "plt.figure(figsize=(10, 5))\n",
    "plt.plot(x_values, y_values, label='Ряд Фурье')\n",
    "plt.plot(x_values, y_values_true, label='Истинная функция', linestyle='--')\n",
    "plt.xlabel('x')\n",
    "plt.ylabel('y')\n",
    "plt.title(f'Ряд Фурье с {N} членами и истинная функция')\n",
    "plt.legend()\n",
    "plt.grid(True)\n",
    "plt.show()"
   ],
   "metadata": {
    "collapsed": false
   },
   "id": "b8568ec62f4c5965"
  }
 ],
 "metadata": {
  "kernelspec": {
   "display_name": "Python 3",
   "language": "python",
   "name": "python3"
  },
  "language_info": {
   "codemirror_mode": {
    "name": "ipython",
    "version": 2
   },
   "file_extension": ".py",
   "mimetype": "text/x-python",
   "name": "python",
   "nbconvert_exporter": "python",
   "pygments_lexer": "ipython2",
   "version": "2.7.6"
  }
 },
 "nbformat": 4,
 "nbformat_minor": 5
}
