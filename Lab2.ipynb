{
 "cells": [
  {
   "cell_type": "code",
   "execution_count": 8,
   "id": "eb9c56ed-3abd-4f0c-a901-e765fee4d378",
   "metadata": {
    "editable": true,
    "slideshow": {
     "slide_type": ""
    },
    "tags": []
   },
   "outputs": [],
   "source": [
    "import numpy as np\n",
    "import matplotlib.pyplot as plt\n",
    "import scipy as sc"
   ]
  },
  {
   "cell_type": "code",
   "execution_count": 10,
   "id": "ed4c0ab6-42ff-40d5-80c8-4ee76cb0d316",
   "metadata": {
    "editable": true,
    "slideshow": {
     "slide_type": ""
    },
    "tags": []
   },
   "outputs": [
    {
     "ename": "TypeError",
     "evalue": "'module' object is not callable",
     "output_type": "error",
     "traceback": [
      "\u001b[0;31m---------------------------------------------------------------------------\u001b[0m",
      "\u001b[0;31mTypeError\u001b[0m                                 Traceback (most recent call last)",
      "Cell \u001b[0;32mIn[10], line 12\u001b[0m\n\u001b[1;32m      6\u001b[0m g_t \u001b[38;5;241m=\u001b[39m F_t \u001b[38;5;241m*\u001b[39m np\u001b[38;5;241m.\u001b[39mexp(\u001b[38;5;241m1\u001b[39mj \u001b[38;5;241m*\u001b[39m W0 \u001b[38;5;241m*\u001b[39m t)\n\u001b[1;32m     11\u001b[0m plt\u001b[38;5;241m.\u001b[39mfigure(figsize\u001b[38;5;241m=\u001b[39m(\u001b[38;5;241m12\u001b[39m, \u001b[38;5;241m6\u001b[39m))\n\u001b[0;32m---> 12\u001b[0m plt\u001b[38;5;241m.\u001b[39mplot(t, \u001b[43mnp\u001b[49m\u001b[38;5;241;43m.\u001b[39;49m\u001b[43mfft\u001b[49m\u001b[43m(\u001b[49m\u001b[43mg_t\u001b[49m\u001b[38;5;241;43m.\u001b[39;49m\u001b[43mreal\u001b[49m\u001b[43m)\u001b[49m, label\u001b[38;5;241m=\u001b[39m\u001b[38;5;124m'\u001b[39m\u001b[38;5;124mRe\u001b[39m\u001b[38;5;124m{\u001b[39m\u001b[38;5;124mg(t)}\u001b[39m\u001b[38;5;124m'\u001b[39m)\n\u001b[1;32m     13\u001b[0m plt\u001b[38;5;241m.\u001b[39mplot(t, np\u001b[38;5;241m.\u001b[39mfft(g_t\u001b[38;5;241m.\u001b[39mimag), label\u001b[38;5;241m=\u001b[39m\u001b[38;5;124m'\u001b[39m\u001b[38;5;124mIm\u001b[39m\u001b[38;5;124m{\u001b[39m\u001b[38;5;124mg(t)}\u001b[39m\u001b[38;5;124m'\u001b[39m)\n\u001b[1;32m     14\u001b[0m plt\u001b[38;5;241m.\u001b[39mplot(t, np\u001b[38;5;241m.\u001b[39mfft(np\u001b[38;5;241m.\u001b[39mabs(F_t)), label\u001b[38;5;241m=\u001b[39m\u001b[38;5;124m'\u001b[39m\u001b[38;5;124m|F(t)|\u001b[39m\u001b[38;5;124m'\u001b[39m)\n",
      "\u001b[0;31mTypeError\u001b[0m: 'module' object is not callable"
     ]
    },
    {
     "data": {
      "text/plain": [
       "<Figure size 1200x600 with 0 Axes>"
      ]
     },
     "metadata": {},
     "output_type": "display_data"
    }
   ],
   "source": [
    "w = 10  # значение Omega\n",
    "W0 = 100  # значение W0\n",
    "\n",
    "t = np.linspace(0, 1, 1000)\n",
    "F_t = np.cos(w * t)\n",
    "g_t = F_t * np.exp(1j * W0 * t)\n",
    "\n",
    "\n",
    "\n",
    "\n",
    "plt.figure(figsize=(12, 6))\n",
    "plt.plot(t, np.fft(g_t.real), label='Re{g(t)}')\n",
    "plt.plot(t, np.fft(g_t.imag), label='Im{g(t)}')\n",
    "plt.plot(t, np.fft(np.abs(F_t)), label='|F(t)|')\n",
    "# plt.plot(t, g_t.real, label='Re{g(t)}')\n",
    "# plt.plot(t, g_t.imag, label='Im{g(t)}')\n",
    "# plt.plot(t, np.abs(F_t), label='|F(t)|')"
   ]
  },
  {
   "cell_type": "code",
   "execution_count": null,
   "id": "0d8be064-e27b-42c4-aeba-043ac430734a",
   "metadata": {},
   "outputs": [],
   "source": []
  },
  {
   "cell_type": "code",
   "execution_count": null,
   "id": "2e29168f-3461-4460-b23c-c123a0ebed96",
   "metadata": {},
   "outputs": [],
   "source": []
  }
 ],
 "metadata": {
  "kernelspec": {
   "display_name": "Python 3 (ipykernel)",
   "language": "python",
   "name": "python3"
  },
  "language_info": {
   "codemirror_mode": {
    "name": "ipython",
    "version": 3
   },
   "file_extension": ".py",
   "mimetype": "text/x-python",
   "name": "python",
   "nbconvert_exporter": "python",
   "pygments_lexer": "ipython3",
   "version": "3.10.4"
  }
 },
 "nbformat": 4,
 "nbformat_minor": 5
}
